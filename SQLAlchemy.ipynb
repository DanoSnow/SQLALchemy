{
  "cells": [
    {
      "cell_type": "markdown",
      "metadata": {
        "id": "view-in-github",
        "colab_type": "text"
      },
      "source": [
        "<a href=\"https://colab.research.google.com/github/DanoSnow/SQLALchemy/blob/main/SQLAlchemy.ipynb\" target=\"_parent\"><img src=\"https://colab.research.google.com/assets/colab-badge.svg\" alt=\"Open In Colab\"/></a>"
      ]
    },
    {
      "cell_type": "markdown",
      "metadata": {
        "id": "e38gwYmx3cGr"
      },
      "source": [
        "I will create a new model for an User object"
      ]
    },
    {
      "cell_type": "code",
      "execution_count": 42,
      "metadata": {
        "id": "S7645LkF1VDz"
      },
      "outputs": [],
      "source": [
        "from pydantic import BaseModel\n",
        "\n",
        "class User(BaseModel):\n",
        "  name: str\n",
        "  password: str"
      ]
    },
    {
      "cell_type": "markdown",
      "metadata": {
        "id": "BBBtiwp80_Wy"
      },
      "source": [
        "I will use the ORM SQLAlchemy for mapping an User component that I will use on a table \"users\""
      ]
    },
    {
      "cell_type": "code",
      "execution_count": 43,
      "metadata": {
        "colab": {
          "base_uri": "https://localhost:8080/"
        },
        "id": "YVHVwSEpt_le",
        "outputId": "f015738d-e2a1-4e71-dec1-5bb6c36f80bc"
      },
      "outputs": [
        {
          "output_type": "stream",
          "name": "stdout",
          "text": [
            "2023-03-23 19:46:30,282 INFO sqlalchemy.engine.Engine BEGIN (implicit)\n"
          ]
        },
        {
          "output_type": "stream",
          "name": "stderr",
          "text": [
            "INFO:sqlalchemy.engine.Engine:BEGIN (implicit)\n"
          ]
        },
        {
          "output_type": "stream",
          "name": "stdout",
          "text": [
            "2023-03-23 19:46:30,287 INFO sqlalchemy.engine.Engine PRAGMA main.table_info(\"users\")\n"
          ]
        },
        {
          "output_type": "stream",
          "name": "stderr",
          "text": [
            "INFO:sqlalchemy.engine.Engine:PRAGMA main.table_info(\"users\")\n"
          ]
        },
        {
          "output_type": "stream",
          "name": "stdout",
          "text": [
            "2023-03-23 19:46:30,291 INFO sqlalchemy.engine.Engine [raw sql] ()\n"
          ]
        },
        {
          "output_type": "stream",
          "name": "stderr",
          "text": [
            "INFO:sqlalchemy.engine.Engine:[raw sql] ()\n"
          ]
        },
        {
          "output_type": "stream",
          "name": "stdout",
          "text": [
            "2023-03-23 19:46:30,296 INFO sqlalchemy.engine.Engine COMMIT\n"
          ]
        },
        {
          "output_type": "stream",
          "name": "stderr",
          "text": [
            "INFO:sqlalchemy.engine.Engine:COMMIT\n"
          ]
        }
      ],
      "source": [
        "from sqlalchemy import create_engine\n",
        "engine = create_engine('sqlite:///Users.db', echo=True)\n",
        "\n",
        "from sqlalchemy import Column, String, Integer\n",
        "from sqlalchemy.ext.declarative import declarative_base\n",
        "\n",
        "Base = declarative_base()\n",
        "class Users(Base):\n",
        "  __tablename__ = 'users'\n",
        "  id = Column(Integer, primary_key=True, autoincrement=True)\n",
        "  name = Column(String)\n",
        "  password = Column(String)\n",
        "Base.metadata.create_all(engine)"
      ]
    },
    {
      "cell_type": "markdown",
      "metadata": {
        "id": "34WIKgP4Ilh6"
      },
      "source": [
        "Now I will create the database handler"
      ]
    },
    {
      "cell_type": "code",
      "execution_count": 44,
      "metadata": {
        "id": "1njZOSofI1T-"
      },
      "outputs": [],
      "source": [
        "from sqlalchemy.orm import sessionmaker\n",
        "Session = sessionmaker(bind=engine)\n",
        "session = Session()\n",
        "\n",
        "# I will define a function that adds a User object\n",
        "def add(*user: User):\n",
        "  session.add_all([Users(name=elem.name, password=elem.password)\n",
        "  for elem in user])\n",
        "  # session.add(Users(id=user.id, name=user.name, password=user.password))\n",
        "  session.commit()"
      ]
    },
    {
      "cell_type": "markdown",
      "metadata": {
        "id": "z8255UD8MlsK"
      },
      "source": [
        "This new cell is optional. I just wanted to check the table."
      ]
    },
    {
      "cell_type": "code",
      "source": [
        "# Now I will use the function to add a User object\n",
        "add(User(name='Daniel', password='1234'),\n",
        "    User(name='Alberto', password='2345'))"
      ],
      "metadata": {
        "colab": {
          "base_uri": "https://localhost:8080/"
        },
        "id": "0jVHrm7tFDAz",
        "outputId": "3196244c-5290-4789-e442-772c189add5d"
      },
      "execution_count": 45,
      "outputs": [
        {
          "output_type": "stream",
          "name": "stdout",
          "text": [
            "2023-03-23 19:46:38,352 INFO sqlalchemy.engine.Engine BEGIN (implicit)\n"
          ]
        },
        {
          "output_type": "stream",
          "name": "stderr",
          "text": [
            "INFO:sqlalchemy.engine.Engine:BEGIN (implicit)\n"
          ]
        },
        {
          "output_type": "stream",
          "name": "stdout",
          "text": [
            "2023-03-23 19:46:38,362 INFO sqlalchemy.engine.Engine INSERT INTO users (name, password) VALUES (?, ?)\n"
          ]
        },
        {
          "output_type": "stream",
          "name": "stderr",
          "text": [
            "INFO:sqlalchemy.engine.Engine:INSERT INTO users (name, password) VALUES (?, ?)\n"
          ]
        },
        {
          "output_type": "stream",
          "name": "stdout",
          "text": [
            "2023-03-23 19:46:38,366 INFO sqlalchemy.engine.Engine [generated in 0.00499s] ('Daniel', '1234')\n"
          ]
        },
        {
          "output_type": "stream",
          "name": "stderr",
          "text": [
            "INFO:sqlalchemy.engine.Engine:[generated in 0.00499s] ('Daniel', '1234')\n"
          ]
        },
        {
          "output_type": "stream",
          "name": "stdout",
          "text": [
            "2023-03-23 19:46:38,374 INFO sqlalchemy.engine.Engine INSERT INTO users (name, password) VALUES (?, ?)\n"
          ]
        },
        {
          "output_type": "stream",
          "name": "stderr",
          "text": [
            "INFO:sqlalchemy.engine.Engine:INSERT INTO users (name, password) VALUES (?, ?)\n"
          ]
        },
        {
          "output_type": "stream",
          "name": "stdout",
          "text": [
            "2023-03-23 19:46:38,377 INFO sqlalchemy.engine.Engine [cached since 0.01586s ago] ('Alberto', '2345')\n"
          ]
        },
        {
          "output_type": "stream",
          "name": "stderr",
          "text": [
            "INFO:sqlalchemy.engine.Engine:[cached since 0.01586s ago] ('Alberto', '2345')\n"
          ]
        },
        {
          "output_type": "stream",
          "name": "stdout",
          "text": [
            "2023-03-23 19:46:38,382 INFO sqlalchemy.engine.Engine COMMIT\n"
          ]
        },
        {
          "output_type": "stream",
          "name": "stderr",
          "text": [
            "INFO:sqlalchemy.engine.Engine:COMMIT\n"
          ]
        }
      ]
    },
    {
      "cell_type": "code",
      "execution_count": 46,
      "metadata": {
        "colab": {
          "base_uri": "https://localhost:8080/"
        },
        "id": "vDyLlzU-MwDZ",
        "outputId": "93651f6a-b498-4da0-9c9e-0147295833c2"
      },
      "outputs": [
        {
          "output_type": "stream",
          "name": "stdout",
          "text": [
            "2023-03-23 19:46:42,216 INFO sqlalchemy.engine.Engine BEGIN (implicit)\n"
          ]
        },
        {
          "output_type": "stream",
          "name": "stderr",
          "text": [
            "INFO:sqlalchemy.engine.Engine:BEGIN (implicit)\n"
          ]
        },
        {
          "output_type": "stream",
          "name": "stdout",
          "text": [
            "2023-03-23 19:46:42,220 INFO sqlalchemy.engine.Engine SELECT users.id AS users_id, users.name AS users_name, users.password AS users_password \n",
            "FROM users\n"
          ]
        },
        {
          "output_type": "stream",
          "name": "stderr",
          "text": [
            "INFO:sqlalchemy.engine.Engine:SELECT users.id AS users_id, users.name AS users_name, users.password AS users_password \n",
            "FROM users\n"
          ]
        },
        {
          "output_type": "stream",
          "name": "stdout",
          "text": [
            "2023-03-23 19:46:42,222 INFO sqlalchemy.engine.Engine [generated in 0.00219s] ()\n"
          ]
        },
        {
          "output_type": "stream",
          "name": "stderr",
          "text": [
            "INFO:sqlalchemy.engine.Engine:[generated in 0.00219s] ()\n"
          ]
        },
        {
          "output_type": "stream",
          "name": "stdout",
          "text": [
            "ID:  1 Name: Daniel Password: 1234\n",
            "ID:  2 Name: Alberto Password: 2345\n",
            "ID:  3 Name: Daniel Password: 1234\n",
            "ID:  4 Name: Alberto Password: 2345\n",
            "ID:  5 Name: Daniel Password: 1234\n",
            "ID:  6 Name: Alberto Password: 2345\n",
            "ID:  7 Name: Daniel Password: 1234\n",
            "ID:  8 Name: Alberto Password: 2345\n"
          ]
        }
      ],
      "source": [
        "result = session.query(Users).all()\n",
        "for row in result:\n",
        "  print (\"ID: \",row.id, \"Name:\",row.name, \"Password:\",row.password)"
      ]
    },
    {
      "cell_type": "markdown",
      "metadata": {
        "id": "vpxidEaa3oKp"
      },
      "source": [
        "Now I will define the function where I will update Users object"
      ]
    },
    {
      "cell_type": "code",
      "execution_count": 47,
      "metadata": {
        "id": "ALK-z4tc31mt",
        "colab": {
          "base_uri": "https://localhost:8080/"
        },
        "outputId": "4f3ed8c1-39f9-4036-9fd0-89e435939960"
      },
      "outputs": [
        {
          "output_type": "stream",
          "name": "stdout",
          "text": [
            "ID:  6 Name: Alberto Password: 2345\n"
          ]
        }
      ],
      "source": [
        "x=session.query(Users).get(6)\n",
        "print (\"ID: \",x.id, \"Name:\",x.name, \"Password:\",x.password)\n"
      ]
    }
  ],
  "metadata": {
    "colab": {
      "provenance": [],
      "authorship_tag": "ABX9TyNAEzSD7yoDqLnxsCrLtsNF",
      "include_colab_link": true
    },
    "kernelspec": {
      "display_name": "Python 3",
      "name": "python3"
    },
    "language_info": {
      "name": "python"
    }
  },
  "nbformat": 4,
  "nbformat_minor": 0
}