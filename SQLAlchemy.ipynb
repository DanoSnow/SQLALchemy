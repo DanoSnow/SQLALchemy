{
  "nbformat": 4,
  "nbformat_minor": 0,
  "metadata": {
    "colab": {
      "provenance": [],
      "authorship_tag": "ABX9TyMZH6YhOCtDIYPlWhR1Smbz",
      "include_colab_link": true
    },
    "kernelspec": {
      "name": "python3",
      "display_name": "Python 3"
    },
    "language_info": {
      "name": "python"
    }
  },
  "cells": [
    {
      "cell_type": "markdown",
      "metadata": {
        "id": "view-in-github",
        "colab_type": "text"
      },
      "source": [
        "<a href=\"https://colab.research.google.com/github/DanoSnow/SQLALchemy/blob/main/SQLAlchemy.ipynb\" target=\"_parent\"><img src=\"https://colab.research.google.com/assets/colab-badge.svg\" alt=\"Open In Colab\"/></a>"
      ]
    },
    {
      "cell_type": "markdown",
      "source": [
        "I will create a new model for an User object"
      ],
      "metadata": {
        "id": "e38gwYmx3cGr"
      }
    },
    {
      "cell_type": "code",
      "source": [
        "from pydantic import BaseModel\n",
        "\n",
        "class User(BaseModel):\n",
        "  id: str\n",
        "  name: str\n",
        "  password: str"
      ],
      "metadata": {
        "id": "S7645LkF1VDz"
      },
      "execution_count": 14,
      "outputs": []
    },
    {
      "cell_type": "markdown",
      "source": [
        "For the id field I will use the uuid module to give to the User object an unique and inmutable id"
      ],
      "metadata": {
        "id": "8cQwDPs45DHq"
      }
    },
    {
      "cell_type": "code",
      "source": [
        "from uuid import uuid4 as uu_id\n"
      ],
      "metadata": {
        "id": "UPkGAcDc5Ulz"
      },
      "execution_count": 15,
      "outputs": []
    },
    {
      "cell_type": "markdown",
      "source": [
        "I will use the ORM SQLAlchemy for mapping an User component that I will use on a table \"users\""
      ],
      "metadata": {
        "id": "BBBtiwp80_Wy"
      }
    },
    {
      "cell_type": "code",
      "execution_count": 17,
      "metadata": {
        "colab": {
          "base_uri": "https://localhost:8080/"
        },
        "id": "YVHVwSEpt_le",
        "outputId": "d000dbc3-4a8a-4a90-dd4c-d2564c01a48b"
      },
      "outputs": [
        {
          "output_type": "stream",
          "name": "stdout",
          "text": [
            "2023-03-23 16:01:45,945 INFO sqlalchemy.engine.Engine BEGIN (implicit)\n"
          ]
        },
        {
          "output_type": "stream",
          "name": "stderr",
          "text": [
            "INFO:sqlalchemy.engine.Engine:BEGIN (implicit)\n"
          ]
        },
        {
          "output_type": "stream",
          "name": "stdout",
          "text": [
            "2023-03-23 16:01:45,949 INFO sqlalchemy.engine.Engine PRAGMA main.table_info(\"users\")\n"
          ]
        },
        {
          "output_type": "stream",
          "name": "stderr",
          "text": [
            "INFO:sqlalchemy.engine.Engine:PRAGMA main.table_info(\"users\")\n"
          ]
        },
        {
          "output_type": "stream",
          "name": "stdout",
          "text": [
            "2023-03-23 16:01:45,954 INFO sqlalchemy.engine.Engine [raw sql] ()\n"
          ]
        },
        {
          "output_type": "stream",
          "name": "stderr",
          "text": [
            "INFO:sqlalchemy.engine.Engine:[raw sql] ()\n"
          ]
        },
        {
          "output_type": "stream",
          "name": "stdout",
          "text": [
            "2023-03-23 16:01:45,958 INFO sqlalchemy.engine.Engine COMMIT\n"
          ]
        },
        {
          "output_type": "stream",
          "name": "stderr",
          "text": [
            "INFO:sqlalchemy.engine.Engine:COMMIT\n"
          ]
        }
      ],
      "source": [
        "from sqlalchemy import create_engine\n",
        "engine = create_engine('sqlite:///sales.db', echo=True)\n",
        "\n",
        "from sqlalchemy import Column, String\n",
        "from sqlalchemy.ext.declarative import declarative_base\n",
        "\n",
        "Base = declarative_base()\n",
        "class Users(Base):\n",
        "  __tablename__ = 'users'\n",
        "  id = Column(String, primary_key=True)\n",
        "  name = Column(String)\n",
        "  password = Column(String)\n",
        "Base.metadata.create_all(engine)"
      ]
    },
    {
      "cell_type": "markdown",
      "source": [
        "Now I will create the database handler"
      ],
      "metadata": {
        "id": "34WIKgP4Ilh6"
      }
    },
    {
      "cell_type": "code",
      "source": [
        "from sqlalchemy.orm import sessionmaker\n",
        "Session = sessionmaker(bind=engine)\n",
        "session = Session()\n",
        "\n",
        "# I will define a function that adds a User object\n",
        "def add(*user: User):\n",
        "  session.add_all([Users(id=elem.id, name=elem.name, password=elem.password)\n",
        "  for elem in user])\n",
        "  # session.add(Users(id=user.id, name=user.name, password=user.password))\n",
        "  session.commit()\n",
        "\n",
        "# Now I will use the function to add a User object\n",
        "add(User(id=str(uu_id()), name='Daniel', password='1234'),\n",
        "    User(id=str(uu_id()), name='Alberto', password='2345'))"
      ],
      "metadata": {
        "colab": {
          "base_uri": "https://localhost:8080/"
        },
        "id": "1njZOSofI1T-",
        "outputId": "6136c689-0106-4b3b-a57e-3d2a79059a44"
      },
      "execution_count": 18,
      "outputs": [
        {
          "output_type": "stream",
          "name": "stdout",
          "text": [
            "2023-03-23 16:01:50,569 INFO sqlalchemy.engine.Engine BEGIN (implicit)\n"
          ]
        },
        {
          "output_type": "stream",
          "name": "stderr",
          "text": [
            "INFO:sqlalchemy.engine.Engine:BEGIN (implicit)\n"
          ]
        },
        {
          "output_type": "stream",
          "name": "stdout",
          "text": [
            "2023-03-23 16:01:50,574 INFO sqlalchemy.engine.Engine INSERT INTO users (id, name, password) VALUES (?, ?, ?)\n"
          ]
        },
        {
          "output_type": "stream",
          "name": "stderr",
          "text": [
            "INFO:sqlalchemy.engine.Engine:INSERT INTO users (id, name, password) VALUES (?, ?, ?)\n"
          ]
        },
        {
          "output_type": "stream",
          "name": "stdout",
          "text": [
            "2023-03-23 16:01:50,577 INFO sqlalchemy.engine.Engine [generated in 0.00342s] (('5f18e137-a59e-4939-a08a-27e3de1773ab', 'Daniel', '1234'), ('cc358af7-ea2e-4aef-8e83-97eb717560a6', 'Alberto', '2345'))\n"
          ]
        },
        {
          "output_type": "stream",
          "name": "stderr",
          "text": [
            "INFO:sqlalchemy.engine.Engine:[generated in 0.00342s] (('5f18e137-a59e-4939-a08a-27e3de1773ab', 'Daniel', '1234'), ('cc358af7-ea2e-4aef-8e83-97eb717560a6', 'Alberto', '2345'))\n"
          ]
        },
        {
          "output_type": "stream",
          "name": "stdout",
          "text": [
            "2023-03-23 16:01:50,581 INFO sqlalchemy.engine.Engine COMMIT\n"
          ]
        },
        {
          "output_type": "stream",
          "name": "stderr",
          "text": [
            "INFO:sqlalchemy.engine.Engine:COMMIT\n"
          ]
        }
      ]
    },
    {
      "cell_type": "markdown",
      "source": [
        "This new cell is optional. I just wanted to check the table."
      ],
      "metadata": {
        "id": "z8255UD8MlsK"
      }
    },
    {
      "cell_type": "code",
      "source": [
        "result = session.query(Users).all()\n",
        "for row in result:\n",
        "  print (\"ID: \",row.id, \"Address:\",row.name, \"Email:\",row.password)"
      ],
      "metadata": {
        "colab": {
          "base_uri": "https://localhost:8080/"
        },
        "id": "vDyLlzU-MwDZ",
        "outputId": "93454266-cc11-4a7b-b4cd-f8571b9b40b8"
      },
      "execution_count": 19,
      "outputs": [
        {
          "output_type": "stream",
          "name": "stdout",
          "text": [
            "2023-03-23 16:01:55,380 INFO sqlalchemy.engine.Engine BEGIN (implicit)\n"
          ]
        },
        {
          "output_type": "stream",
          "name": "stderr",
          "text": [
            "INFO:sqlalchemy.engine.Engine:BEGIN (implicit)\n"
          ]
        },
        {
          "output_type": "stream",
          "name": "stdout",
          "text": [
            "2023-03-23 16:01:55,384 INFO sqlalchemy.engine.Engine SELECT users.id AS users_id, users.name AS users_name, users.password AS users_password \n",
            "FROM users\n"
          ]
        },
        {
          "output_type": "stream",
          "name": "stderr",
          "text": [
            "INFO:sqlalchemy.engine.Engine:SELECT users.id AS users_id, users.name AS users_name, users.password AS users_password \n",
            "FROM users\n"
          ]
        },
        {
          "output_type": "stream",
          "name": "stdout",
          "text": [
            "2023-03-23 16:01:55,386 INFO sqlalchemy.engine.Engine [generated in 0.00233s] ()\n"
          ]
        },
        {
          "output_type": "stream",
          "name": "stderr",
          "text": [
            "INFO:sqlalchemy.engine.Engine:[generated in 0.00233s] ()\n"
          ]
        },
        {
          "output_type": "stream",
          "name": "stdout",
          "text": [
            "ID:  88dc12e8-391c-48f8-997e-0adabb03af3b Address: Daniel Email: 1234\n",
            "ID:  09530a01-acd0-4c53-8886-ce1f833411a5 Address: Daniel Email: 1234\n",
            "ID:  5f18e137-a59e-4939-a08a-27e3de1773ab Address: Daniel Email: 1234\n",
            "ID:  cc358af7-ea2e-4aef-8e83-97eb717560a6 Address: Alberto Email: 2345\n"
          ]
        }
      ]
    }
  ]
}